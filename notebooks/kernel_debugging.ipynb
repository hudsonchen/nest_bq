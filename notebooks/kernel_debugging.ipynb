{
 "cells": [
  {
   "cell_type": "code",
   "execution_count": 1,
   "metadata": {},
   "outputs": [],
   "source": [
    "import os\n",
    "os.chdir('/home/zongchen/nest_bq')\n",
    "import pandas as pd\n",
    "import jax.numpy as jnp\n",
    "import jax\n",
    "\n",
    "from utils.kernel_means import *\n",
    "\n",
    "rng_key = jax.random.PRNGKey(0)"
   ]
  },
  {
   "cell_type": "code",
   "execution_count": 4,
   "metadata": {},
   "outputs": [
    {
     "name": "stdout",
     "output_type": "stream",
     "text": [
      "Empirical kernel mean= [0.7763781  0.6113103  0.770221   0.61391187 0.7720505 ]\n",
      "Analytic kernel mean= [[0.7676016 ]\n",
      " [0.610035  ]\n",
      " [0.7613934 ]\n",
      " [0.6147367 ]\n",
      " [0.76360416]]\n"
     ]
    }
   ],
   "source": [
    "N = 1000\n",
    "a, b = -1., 1.\n",
    "X1 = jax.random.uniform(rng_key, shape=(N, 1), minval=a, maxval=b)\n",
    "X2 = jax.random.uniform(rng_key, shape=(5, 1), minval=a, maxval=b)\n",
    "l = 1.0\n",
    "\n",
    "K = my_Matern(X1, X2, l)\n",
    "empirical_mean = jnp.mean(K, axis=0)\n",
    "print('Empirical kernel mean=', empirical_mean)\n",
    "analytical_mean = kme_Matern_Uniform(l, X2, a, b)\n",
    "print('Analytic kernel mean=', analytical_mean)\n"
   ]
  },
  {
   "cell_type": "code",
   "execution_count": 7,
   "metadata": {},
   "outputs": [
    {
     "name": "stdout",
     "output_type": "stream",
     "text": [
      "Empirical kernel mean= [0.8557096  0.68418825 0.84905046 0.68704    0.8509668 ]\n",
      "Analytic kernel mean= [[0.8489164]\n",
      " [0.6807167]\n",
      " [0.8418824]\n",
      " [0.6854978]\n",
      " [0.8443825]]\n"
     ]
    }
   ],
   "source": [
    "N = 1000\n",
    "a, b = -1., 1.\n",
    "X1 = jax.random.uniform(rng_key, shape=(N, 1), minval=a, maxval=b)\n",
    "X2 = jax.random.uniform(rng_key, shape=(5, 1), minval=a, maxval=b)\n",
    "l = 1.0\n",
    "\n",
    "K = my_RBF(X1, X2, l)\n",
    "empirical_mean = jnp.mean(K, axis=0)\n",
    "print('Empirical kernel mean=', empirical_mean)\n",
    "analytical_mean = kme_RBF_uniform(a, b, l, X2)\n",
    "print('Analytic kernel mean=', analytical_mean)\n"
   ]
  }
 ],
 "metadata": {
  "kernelspec": {
   "display_name": "cbq",
   "language": "python",
   "name": "python3"
  },
  "language_info": {
   "codemirror_mode": {
    "name": "ipython",
    "version": 3
   },
   "file_extension": ".py",
   "mimetype": "text/x-python",
   "name": "python",
   "nbconvert_exporter": "python",
   "pygments_lexer": "ipython3",
   "version": "3.9.17"
  }
 },
 "nbformat": 4,
 "nbformat_minor": 2
}
