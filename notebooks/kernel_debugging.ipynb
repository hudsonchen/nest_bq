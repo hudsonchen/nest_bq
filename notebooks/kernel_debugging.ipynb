{
 "cells": [
  {
   "cell_type": "code",
   "execution_count": 7,
   "metadata": {},
   "outputs": [],
   "source": [
    "import os\n",
    "os.chdir('/home/zongchen/nest_bq')\n",
    "import pandas as pd\n",
    "import jax.numpy as jnp\n",
    "import jax\n",
    "from jax import config\n",
    "config.update(\"jax_enable_x64\", True)\n",
    "from utils.kernel_means import *\n",
    "\n",
    "rng_key = jax.random.PRNGKey(0)"
   ]
  },
  {
   "cell_type": "code",
   "execution_count": 14,
   "metadata": {},
   "outputs": [
    {
     "name": "stdout",
     "output_type": "stream",
     "text": [
      "Empirical kernel mean= [0.30944761 0.31420639 0.31432613 0.28806921 0.30666526]\n",
      "Analytic kernel mean= [[0.31004143]\n",
      " [0.31338725]\n",
      " [0.31514634]\n",
      " [0.28991004]\n",
      " [0.30731264]]\n"
     ]
    }
   ],
   "source": [
    "N = 10000\n",
    "a, b = -5., 1.\n",
    "X1 = jax.random.uniform(rng_key, shape=(N, 1), minval=a, maxval=b)\n",
    "rng_key, _ = jax.random.split(rng_key)\n",
    "X2 = jax.random.uniform(rng_key, shape=(5, 1), minval=a, maxval=b)\n",
    "l = 1.0\n",
    "\n",
    "K = my_Matern_12(X1, X2, l)\n",
    "empirical_mean = jnp.mean(K, axis=0)\n",
    "print('Empirical kernel mean=', empirical_mean)\n",
    "analytical_mean = kme_Matern_12_Uniform(a, b, l, X2)\n",
    "print('Analytic kernel mean=', analytical_mean)\n"
   ]
  },
  {
   "cell_type": "code",
   "execution_count": 16,
   "metadata": {},
   "outputs": [
    {
     "name": "stdout",
     "output_type": "stream",
     "text": [
      "Empirical kernel mean= [0.39757082 0.38390061 0.41368944 0.46103364 0.51567243]\n",
      "Analytic kernel mean= [[0.39833928]\n",
      " [0.38245755]\n",
      " [0.41466507]\n",
      " [0.46027898]\n",
      " [0.51968009]]\n"
     ]
    }
   ],
   "source": [
    "N = 10000\n",
    "a, b = -5., 1.\n",
    "X1 = jax.random.normal(rng_key, shape=(N, 1))\n",
    "rng_key, _ = jax.random.split(rng_key)\n",
    "X2 = jax.random.normal(rng_key, shape=(5, 1))\n",
    "l = 1.0\n",
    "\n",
    "K = my_Matern_12(X1, X2, l)\n",
    "empirical_mean = jnp.mean(K, axis=0)\n",
    "print('Empirical kernel mean=', empirical_mean)\n",
    "analytical_mean = kme_Matern_12_Gaussian(l, X2)\n",
    "print('Analytic kernel mean=', analytical_mean)\n"
   ]
  },
  {
   "cell_type": "code",
   "execution_count": 9,
   "metadata": {},
   "outputs": [
    {
     "name": "stdout",
     "output_type": "stream",
     "text": [
      "Empirical kernel mean= [0.83570248 0.84090341 0.85268178 0.77953108 0.82702445]\n",
      "Analytic kernel mean= [[0.83044183]\n",
      " [0.84254856]\n",
      " [0.84928526]\n",
      " [0.77173248]\n",
      " [0.82117849]]\n"
     ]
    }
   ],
   "source": [
    "N = 1000\n",
    "a, b = -1., 1.\n",
    "X1 = jax.random.uniform(rng_key, shape=(N, 1), minval=a, maxval=b)\n",
    "X2 = jax.random.uniform(rng_key, shape=(5, 1), minval=a, maxval=b)\n",
    "l = 1.0\n",
    "\n",
    "K = my_RBF(X1, X2, l)\n",
    "empirical_mean = jnp.mean(K, axis=0)\n",
    "print('Empirical kernel mean=', empirical_mean)\n",
    "analytical_mean = kme_RBF_uniform(a, b, l, X2)\n",
    "print('Analytic kernel mean=', analytical_mean)\n"
   ]
  }
 ],
 "metadata": {
  "kernelspec": {
   "display_name": "cbq",
   "language": "python",
   "name": "python3"
  },
  "language_info": {
   "codemirror_mode": {
    "name": "ipython",
    "version": 3
   },
   "file_extension": ".py",
   "mimetype": "text/x-python",
   "name": "python",
   "nbconvert_exporter": "python",
   "pygments_lexer": "ipython3",
   "version": "3.9.17"
  }
 },
 "nbformat": 4,
 "nbformat_minor": 2
}
