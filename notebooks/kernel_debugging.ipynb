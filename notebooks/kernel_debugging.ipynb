{
 "cells": [
  {
   "cell_type": "code",
   "execution_count": 2,
   "metadata": {},
   "outputs": [
    {
     "name": "stderr",
     "output_type": "stream",
     "text": [
      "An NVIDIA GPU may be present on this machine, but a CUDA-enabled jaxlib is not installed. Falling back to cpu.\n"
     ]
    }
   ],
   "source": [
    "import os\n",
    "os.chdir('/home/zongchen/nest_bq')\n",
    "import pandas as pd\n",
    "import jax.numpy as jnp\n",
    "import jax\n",
    "from jax import config\n",
    "config.update(\"jax_enable_x64\", True)\n",
    "from utils.kernel_means import *\n",
    "\n",
    "rng_key = jax.random.PRNGKey(0)"
   ]
  },
  {
   "cell_type": "code",
   "execution_count": 3,
   "metadata": {},
   "outputs": [
    {
     "name": "stdout",
     "output_type": "stream",
     "text": [
      "Empirical kernel mean= [0.45349489 0.89313244 0.79373742 0.71834174 0.87206135]\n",
      "Analytic kernel mean= [[0.45245266]\n",
      " [0.89432469]\n",
      " [0.79486433]\n",
      " [0.71842054]\n",
      " [0.87329693]]\n"
     ]
    }
   ],
   "source": [
    "N = 10000\n",
    "X1 = jnp.exp(jax.random.normal(rng_key, shape=(N, 1)))\n",
    "rng_key, _ = jax.random.split(rng_key)\n",
    "X2 = jnp.exp(jax.random.normal(rng_key, shape=(5, 1)))\n",
    "l = 2.0\n",
    "\n",
    "K = my_log_RBF(X1, X2, l)\n",
    "empirical_mean = jnp.mean(K, axis=0)\n",
    "print('Empirical kernel mean=', empirical_mean)\n",
    "analytical_mean = kme_log_normal_log_RBF(0., 1., X2, l)\n",
    "print('Analytic kernel mean=', analytical_mean)\n"
   ]
  },
  {
   "cell_type": "code",
   "execution_count": 4,
   "metadata": {},
   "outputs": [
    {
     "name": "stdout",
     "output_type": "stream",
     "text": [
      "Empirical kernel mean= [0.26477975 0.26029472 0.27209775 0.29459142 0.3111509 ]\n",
      "Analytic kernel mean= [[0.26478407]\n",
      " [0.25750361]\n",
      " [0.27222503]\n",
      " [0.29232695]\n",
      " [0.31552523]]\n"
     ]
    }
   ],
   "source": [
    "N = 10000\n",
    "a, b = -5., 1.\n",
    "X1 = jax.random.uniform(rng_key, shape=(N, 1), minval=a, maxval=b)\n",
    "rng_key, _ = jax.random.split(rng_key)\n",
    "X2 = jax.random.uniform(rng_key, shape=(5, 1), minval=a, maxval=b)\n",
    "l = 1.0\n",
    "\n",
    "K = my_Matern_12(X1, X2, l)\n",
    "empirical_mean = jnp.mean(K, axis=0)\n",
    "print('Empirical kernel mean=', empirical_mean)\n",
    "analytical_mean = kme_Matern_12_Uniform(a, b, l, X2)\n",
    "print('Analytic kernel mean=', analytical_mean)\n"
   ]
  },
  {
   "cell_type": "code",
   "execution_count": 5,
   "metadata": {},
   "outputs": [
    {
     "name": "stdout",
     "output_type": "stream",
     "text": [
      "Empirical kernel mean= [0.40409271 0.52370576 0.51640261 0.28869197 0.48272566]\n",
      "Analytic kernel mean= [[0.39793027]\n",
      " [0.52066879]\n",
      " [0.51673138]\n",
      " [0.28383436]\n",
      " [0.47657617]]\n"
     ]
    }
   ],
   "source": [
    "N = 10000\n",
    "a, b = -5., 1.\n",
    "X1 = jax.random.normal(rng_key, shape=(N, 1))\n",
    "rng_key, _ = jax.random.split(rng_key)\n",
    "X2 = jax.random.normal(rng_key, shape=(5, 1))\n",
    "l = 1.0\n",
    "\n",
    "K = my_Matern_12(X1, X2, l)\n",
    "empirical_mean = jnp.mean(K, axis=0)\n",
    "print('Empirical kernel mean=', empirical_mean)\n",
    "analytical_mean = kme_Matern_12_Gaussian(l, X2)\n",
    "print('Analytic kernel mean=', analytical_mean)\n"
   ]
  },
  {
   "cell_type": "code",
   "execution_count": 7,
   "metadata": {},
   "outputs": [
    {
     "name": "stdout",
     "output_type": "stream",
     "text": [
      "Empirical kernel mean= [0.90935541 0.95889724 0.95604609 0.87957483 0.93904674]\n",
      "Analytic kernel mean= [[0.90731711]\n",
      " [0.95858342]\n",
      " [0.95659789]\n",
      " [0.87707731]\n",
      " [0.937696  ]]\n"
     ]
    }
   ],
   "source": [
    "N = 1000\n",
    "a, b = -1., 1.\n",
    "X1 = jax.random.uniform(rng_key, shape=(N, 1), minval=a, maxval=b)\n",
    "X2 = jax.random.uniform(rng_key, shape=(5, 1), minval=a, maxval=b)\n",
    "l = 2.0\n",
    "\n",
    "K = my_RBF(X1, X2, l)\n",
    "empirical_mean = jnp.mean(K, axis=0)\n",
    "print('Empirical kernel mean=', empirical_mean)\n",
    "analytical_mean = kme_RBF_uniform(a, b, l, X2)\n",
    "print('Analytic kernel mean=', analytical_mean)\n"
   ]
  }
 ],
 "metadata": {
  "kernelspec": {
   "display_name": "cbq",
   "language": "python",
   "name": "python3"
  },
  "language_info": {
   "codemirror_mode": {
    "name": "ipython",
    "version": 3
   },
   "file_extension": ".py",
   "mimetype": "text/x-python",
   "name": "python",
   "nbconvert_exporter": "python",
   "pygments_lexer": "ipython3",
   "version": "3.9.17"
  }
 },
 "nbformat": 4,
 "nbformat_minor": 2
}
