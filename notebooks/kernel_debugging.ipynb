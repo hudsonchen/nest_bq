{
 "cells": [
  {
   "cell_type": "code",
   "execution_count": 1,
   "metadata": {},
   "outputs": [
    {
     "name": "stderr",
     "output_type": "stream",
     "text": [
      "An NVIDIA GPU may be present on this machine, but a CUDA-enabled jaxlib is not installed. Falling back to cpu.\n"
     ]
    }
   ],
   "source": [
    "import os\n",
    "os.chdir('/home/zongchen/nest_bq')\n",
    "import pandas as pd\n",
    "import jax.numpy as jnp\n",
    "import jax\n",
    "from jax import config\n",
    "config.update(\"jax_enable_x64\", True)\n",
    "from utils.kernel_means import *\n",
    "\n",
    "rng_key = jax.random.PRNGKey(0)"
   ]
  },
  {
   "cell_type": "code",
   "execution_count": 2,
   "metadata": {},
   "outputs": [
    {
     "name": "stdout",
     "output_type": "stream",
     "text": [
      "Empirical kernel mean= [0.45349489 0.89313244 0.79373742 0.71834174 0.87206135]\n",
      "Analytic kernel mean= [[0.45245266]\n",
      " [0.89432469]\n",
      " [0.79486433]\n",
      " [0.71842054]\n",
      " [0.87329693]]\n"
     ]
    }
   ],
   "source": [
    "N = 10000\n",
    "X1 = jnp.exp(jax.random.normal(rng_key, shape=(N, 1)))\n",
    "rng_key, _ = jax.random.split(rng_key)\n",
    "X2 = jnp.exp(jax.random.normal(rng_key, shape=(5, 1)))\n",
    "l = 2.0\n",
    "\n",
    "K = my_log_RBF(X1, X2, l)\n",
    "empirical_mean = jnp.mean(K, axis=0)\n",
    "print('Empirical kernel mean=', empirical_mean)\n",
    "analytical_mean = kme_log_normal_log_RBF(0., 1., X2, l)\n",
    "print('Analytic kernel mean=', analytical_mean)\n"
   ]
  },
  {
   "cell_type": "code",
   "execution_count": 3,
   "metadata": {},
   "outputs": [
    {
     "name": "stdout",
     "output_type": "stream",
     "text": [
      "Empirical kernel mean= [0.26477975 0.26029472 0.27209775 0.29459142 0.3111509 ]\n",
      "Analytic kernel mean= [[0.26478407]\n",
      " [0.25750361]\n",
      " [0.27222503]\n",
      " [0.29232695]\n",
      " [0.31552523]]\n"
     ]
    }
   ],
   "source": [
    "N = 10000\n",
    "a, b = -5., 1.\n",
    "d = 1\n",
    "X1 = jax.random.uniform(rng_key, shape=(N, 1), minval=a, maxval=b)\n",
    "rng_key, _ = jax.random.split(rng_key)\n",
    "X2 = jax.random.uniform(rng_key, shape=(5, 1), minval=a, maxval=b)\n",
    "l = 1.0\n",
    "\n",
    "K = my_Matern_12_product(X1, X2, l * jnp.ones(d))\n",
    "empirical_mean = jnp.mean(K, axis=0)\n",
    "print('Empirical kernel mean=', empirical_mean)\n",
    "analytical_mean = kme_Matern_12_Uniform_1d(a * jnp.ones(d), b* jnp.ones(d), l * jnp.ones(d), X2)\n",
    "print('Analytic kernel mean=', analytical_mean)\n"
   ]
  },
  {
   "cell_type": "code",
   "execution_count": 4,
   "metadata": {},
   "outputs": [
    {
     "name": "stdout",
     "output_type": "stream",
     "text": [
      "Empirical kernel mean= [0.00289003 0.0010851  0.00215999 0.00149519 0.00123085]\n",
      "Analytic kernel mean= [0.00292447 0.00108009 0.00214197 0.00151346 0.00120335]\n"
     ]
    }
   ],
   "source": [
    "N = 100000\n",
    "d = 5\n",
    "a, b = -5., 1.\n",
    "X1 = jax.random.uniform(rng_key, shape=(N, d), minval=a, maxval=b)\n",
    "rng_key, _ = jax.random.split(rng_key)\n",
    "X2 = jax.random.uniform(rng_key, shape=(5, d), minval=a, maxval=b)\n",
    "l = 1.0 \n",
    "\n",
    "K = my_Matern_12_product(X1, X2, l * jnp.ones(d))\n",
    "empirical_mean = jnp.mean(K, axis=0)\n",
    "print('Empirical kernel mean=', empirical_mean)\n",
    "analytical_mean = kme_Matern_12_Uniform(a * jnp.ones(d), b * jnp.ones(d), l * jnp.ones(d), X2)\n",
    "print('Analytic kernel mean=', analytical_mean)\n"
   ]
  },
  {
   "cell_type": "code",
   "execution_count": 5,
   "metadata": {},
   "outputs": [
    {
     "name": "stdout",
     "output_type": "stream",
     "text": [
      "Empirical kernel mean= [0.37386373 0.37379593 0.22079658 0.33009174 0.34942444]\n",
      "Analytic kernel mean= [[0.37722939]\n",
      " [0.37709775]\n",
      " [0.22183448]\n",
      " [0.32721466]\n",
      " [0.35329883]]\n"
     ]
    }
   ],
   "source": [
    "N = 10000\n",
    "a, b = -5., 1.\n",
    "d = 1\n",
    "X1 = jax.random.uniform(rng_key, shape=(N, 1), minval=a, maxval=b)\n",
    "rng_key, _ = jax.random.split(rng_key)\n",
    "X2 = jax.random.uniform(rng_key, shape=(5, 1), minval=a, maxval=b)\n",
    "l = 1.0\n",
    "\n",
    "K = my_Matern_32_product(X1, X2, l * jnp.ones(d))\n",
    "empirical_mean = jnp.mean(K, axis=0)\n",
    "print('Empirical kernel mean=', empirical_mean)\n",
    "analytical_mean = kme_Matern_32_Uniform_1d(a* jnp.ones(d), b* jnp.ones(d), l* jnp.ones(d), X2)\n",
    "print('Analytic kernel mean=', analytical_mean)\n"
   ]
  },
  {
   "cell_type": "code",
   "execution_count": 6,
   "metadata": {},
   "outputs": [
    {
     "name": "stdout",
     "output_type": "stream",
     "text": [
      "Empirical kernel mean= [0.73787522 0.75689361 0.68579912 0.71766462 0.75204973]\n",
      "Analytic kernel mean= [0.73776941 0.75693616 0.68589801 0.71774337 0.75205041]\n"
     ]
    }
   ],
   "source": [
    "N = 1000000\n",
    "d = 5\n",
    "a, b = -5., 1.\n",
    "X1 = jax.random.uniform(rng_key, shape=(N, d), minval=a, maxval=b)\n",
    "rng_key, _ = jax.random.split(rng_key)\n",
    "X2 = jax.random.uniform(rng_key, shape=(5, d), minval=a, maxval=b)\n",
    "l = 10.0\n",
    "\n",
    "K = my_Matern_32_product(X1, X2, l * jnp.ones(d))\n",
    "empirical_mean = jnp.mean(K, axis=0)\n",
    "print('Empirical kernel mean=', empirical_mean)\n",
    "analytical_mean = kme_Matern_32_Uniform(a * jnp.ones(d), b * jnp.ones(d), l * jnp.ones(d), X2)\n",
    "print('Analytic kernel mean=', analytical_mean)\n"
   ]
  },
  {
   "cell_type": "code",
   "execution_count": null,
   "metadata": {},
   "outputs": [],
   "source": []
  },
  {
   "cell_type": "code",
   "execution_count": 11,
   "metadata": {},
   "outputs": [
    {
     "name": "stdout",
     "output_type": "stream",
     "text": [
      "Empirical kernel mean= [0.01851637 0.00294014 0.00093941 0.00146908 0.02207383]\n",
      "Analytic kernel mean= [0.01851428 0.00293741 0.00090938 0.0014054  0.02210592]\n"
     ]
    }
   ],
   "source": [
    "N = 10000\n",
    "d = 5\n",
    "X1 = jax.random.normal(rng_key, shape=(N, d))\n",
    "rng_key, _ = jax.random.split(rng_key)\n",
    "X2 = jax.random.normal(rng_key, shape=(5, d))\n",
    "l = 1.0\n",
    "\n",
    "\n",
    "K = my_Matern_12_product(X1, X2, l * jnp.ones(d))\n",
    "empirical_mean = jnp.mean(K, axis=0)\n",
    "print('Empirical kernel mean=', empirical_mean)\n",
    "analytical_mean = kme_Matern_12_Gaussian(l * jnp.ones(d), X2)\n",
    "print('Analytic kernel mean=', analytical_mean)\n"
   ]
  },
  {
   "cell_type": "code",
   "execution_count": 9,
   "metadata": {},
   "outputs": [
    {
     "name": "stdout",
     "output_type": "stream",
     "text": [
      "Empirical kernel mean= [0.48726468 0.50487266 0.30886715 0.31149302 0.31920672]\n",
      "Analytic kernel mean= [0.48612827 0.5044938  0.30968273 0.31176245 0.32003897]\n"
     ]
    }
   ],
   "source": [
    "N = 10000\n",
    "a, b = -5., 1.\n",
    "X1 = jax.random.normal(rng_key, shape=(N, 1))\n",
    "rng_key, _ = jax.random.split(rng_key)\n",
    "X2 = jax.random.normal(rng_key, shape=(5, 1))\n",
    "l = 1.0\n",
    "\n",
    "K = my_Matern_12_product(X1, X2, l * jnp.ones(1))\n",
    "empirical_mean = jnp.mean(K, axis=0)\n",
    "print('Empirical kernel mean=', empirical_mean)\n",
    "analytical_mean = kme_Matern_12_Gaussian_1d(l, X2.squeeze())\n",
    "print('Analytic kernel mean=', analytical_mean)\n"
   ]
  },
  {
   "cell_type": "code",
   "execution_count": 10,
   "metadata": {},
   "outputs": [
    {
     "name": "stdout",
     "output_type": "stream",
     "text": [
      "Empirical kernel mean= [0.94230617 0.95055152 0.88430314 0.87997819 0.88668868]\n",
      "Analytic kernel mean= [[0.9419743 ]\n",
      " [0.95057986]\n",
      " [0.88261164]\n",
      " [0.88308902]\n",
      " [0.885037  ]]\n"
     ]
    }
   ],
   "source": [
    "N = 1000\n",
    "a, b = -1., 1.\n",
    "X1 = jax.random.uniform(rng_key, shape=(N, 1), minval=a, maxval=b)\n",
    "X2 = jax.random.uniform(rng_key, shape=(5, 1), minval=a, maxval=b)\n",
    "l = 2.0\n",
    "\n",
    "K = my_RBF(X1, X2, l)\n",
    "empirical_mean = jnp.mean(K, axis=0)\n",
    "print('Empirical kernel mean=', empirical_mean)\n",
    "analytical_mean = kme_RBF_uniform(a, b, l, X2)\n",
    "print('Analytic kernel mean=', analytical_mean)\n"
   ]
  }
 ],
 "metadata": {
  "kernelspec": {
   "display_name": "cbq",
   "language": "python",
   "name": "python3"
  },
  "language_info": {
   "codemirror_mode": {
    "name": "ipython",
    "version": 3
   },
   "file_extension": ".py",
   "mimetype": "text/x-python",
   "name": "python",
   "nbconvert_exporter": "python",
   "pygments_lexer": "ipython3",
   "version": "3.9.17"
  }
 },
 "nbformat": 4,
 "nbformat_minor": 2
}
