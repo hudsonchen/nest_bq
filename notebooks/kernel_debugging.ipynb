{
 "cells": [
  {
   "cell_type": "code",
   "execution_count": 1,
   "metadata": {},
   "outputs": [
    {
     "name": "stderr",
     "output_type": "stream",
     "text": [
      "An NVIDIA GPU may be present on this machine, but a CUDA-enabled jaxlib is not installed. Falling back to cpu.\n"
     ]
    }
   ],
   "source": [
    "import os\n",
    "os.chdir('/home/zongchen/nest_bq')\n",
    "import jax.numpy as jnp\n",
    "import jax\n",
    "from jax import config\n",
    "config.update(\"jax_enable_x64\", True)\n",
    "from utils.kernel_means import *\n",
    "\n",
    "rng_key = jax.random.PRNGKey(0)"
   ]
  },
  {
   "cell_type": "code",
   "execution_count": 2,
   "metadata": {},
   "outputs": [
    {
     "name": "stdout",
     "output_type": "stream",
     "text": [
      "Empirical kernel mean= [0.45349489 0.89313244 0.79373742 0.71834174 0.87206135]\n",
      "Analytic kernel mean= [[0.45245266]\n",
      " [0.89432469]\n",
      " [0.79486433]\n",
      " [0.71842054]\n",
      " [0.87329693]]\n"
     ]
    }
   ],
   "source": [
    "N = 10000\n",
    "X1 = jnp.exp(jax.random.normal(rng_key, shape=(N, 1)))\n",
    "rng_key, _ = jax.random.split(rng_key)\n",
    "X2 = jnp.exp(jax.random.normal(rng_key, shape=(5, 1)))\n",
    "l = 2.0\n",
    "\n",
    "K = my_log_RBF(X1, X2, l)\n",
    "empirical_mean = jnp.mean(K, axis=0)\n",
    "print('Empirical kernel mean=', empirical_mean)\n",
    "analytical_mean = kme_log_normal_log_RBF(0., 1., X2, l)\n",
    "print('Analytic kernel mean=', analytical_mean)\n"
   ]
  },
  {
   "cell_type": "code",
   "execution_count": 3,
   "metadata": {},
   "outputs": [
    {
     "name": "stdout",
     "output_type": "stream",
     "text": [
      "Empirical kernel mean= [0.26477975 0.26029472 0.27209775 0.29459142 0.3111509 ]\n",
      "Analytic kernel mean= [[0.26478407]\n",
      " [0.25750361]\n",
      " [0.27222503]\n",
      " [0.29232695]\n",
      " [0.31552523]]\n"
     ]
    }
   ],
   "source": [
    "N = 10000\n",
    "a, b = -5., 1.\n",
    "d = 1\n",
    "X1 = jax.random.uniform(rng_key, shape=(N, 1), minval=a, maxval=b)\n",
    "rng_key, _ = jax.random.split(rng_key)\n",
    "X2 = jax.random.uniform(rng_key, shape=(5, 1), minval=a, maxval=b)\n",
    "l = 1.0\n",
    "\n",
    "K = my_Matern_12_product(X1, X2, l * jnp.ones(d))\n",
    "empirical_mean = jnp.mean(K, axis=0)\n",
    "print('Empirical kernel mean=', empirical_mean)\n",
    "analytical_mean = kme_Matern_12_Uniform_1d(a * jnp.ones(d), b* jnp.ones(d), l * jnp.ones(d), X2)\n",
    "print('Analytic kernel mean=', analytical_mean)\n"
   ]
  },
  {
   "cell_type": "code",
   "execution_count": 4,
   "metadata": {},
   "outputs": [
    {
     "name": "stdout",
     "output_type": "stream",
     "text": [
      "Empirical kernel mean= [0.31081491 0.26196342 0.29382618 0.27768245 0.2660458 ]\n",
      "Analytic kernel mean= [0.00292447 0.00108009 0.00214197 0.00151346 0.00120335]\n"
     ]
    }
   ],
   "source": [
    "N = 100000\n",
    "d = 5\n",
    "a, b = -5., 1.\n",
    "X1 = jax.random.uniform(rng_key, shape=(N, d), minval=a, maxval=b)\n",
    "rng_key, _ = jax.random.split(rng_key)\n",
    "X2 = jax.random.uniform(rng_key, shape=(5, d), minval=a, maxval=b)\n",
    "l = 1.0 \n",
    "\n",
    "K = my_Matern_12_product(X1, X2, l * jnp.ones(d))\n",
    "empirical_mean = jnp.mean(K, axis=0)\n",
    "print('Empirical kernel mean=', empirical_mean)\n",
    "analytical_mean = kme_Matern_12_Uniform(a * jnp.ones(d), b * jnp.ones(d), l * jnp.ones(d), X2)\n",
    "print('Analytic kernel mean=', analytical_mean)\n"
   ]
  },
  {
   "cell_type": "code",
   "execution_count": 5,
   "metadata": {},
   "outputs": [
    {
     "name": "stdout",
     "output_type": "stream",
     "text": [
      "Empirical kernel mean= [0.37386373 0.37379593 0.22079658 0.33009174 0.34942444]\n",
      "Analytic kernel mean= [[0.37722939]\n",
      " [0.37709775]\n",
      " [0.22183448]\n",
      " [0.32721466]\n",
      " [0.35329883]]\n"
     ]
    }
   ],
   "source": [
    "N = 10000\n",
    "a, b = -5., 1.\n",
    "d = 1\n",
    "X1 = jax.random.uniform(rng_key, shape=(N, 1), minval=a, maxval=b)\n",
    "rng_key, _ = jax.random.split(rng_key)\n",
    "X2 = jax.random.uniform(rng_key, shape=(5, 1), minval=a, maxval=b)\n",
    "l = 1.0\n",
    "\n",
    "K = my_Matern_32_product(X1, X2, l * jnp.ones(d))\n",
    "empirical_mean = jnp.mean(K, axis=0)\n",
    "print('Empirical kernel mean=', empirical_mean)\n",
    "analytical_mean = kme_Matern_32_Uniform_1d(a* jnp.ones(d), b* jnp.ones(d), l* jnp.ones(d), X2)\n",
    "print('Analytic kernel mean=', analytical_mean)\n"
   ]
  },
  {
   "cell_type": "code",
   "execution_count": 6,
   "metadata": {},
   "outputs": [
    {
     "name": "stdout",
     "output_type": "stream",
     "text": [
      "Empirical kernel mean= [0.73787522 0.75689361 0.68579912 0.71766462 0.75204973]\n",
      "Analytic kernel mean= [0.73776941 0.75693616 0.68589801 0.71774337 0.75205041]\n"
     ]
    }
   ],
   "source": [
    "N = 1000000\n",
    "d = 5\n",
    "a, b = -5., 1.\n",
    "X1 = jax.random.uniform(rng_key, shape=(N, d), minval=a, maxval=b)\n",
    "rng_key, _ = jax.random.split(rng_key)\n",
    "X2 = jax.random.uniform(rng_key, shape=(5, d), minval=a, maxval=b)\n",
    "l = 10.0\n",
    "\n",
    "K = my_Matern_32_product(X1, X2, l * jnp.ones(d))\n",
    "empirical_mean = jnp.mean(K, axis=0)\n",
    "print('Empirical kernel mean=', empirical_mean)\n",
    "analytical_mean = kme_Matern_32_Uniform(a * jnp.ones(d), b * jnp.ones(d), l * jnp.ones(d), X2)\n",
    "print('Analytic kernel mean=', analytical_mean)\n"
   ]
  },
  {
   "cell_type": "code",
   "execution_count": null,
   "metadata": {},
   "outputs": [],
   "source": []
  },
  {
   "cell_type": "code",
   "execution_count": 7,
   "metadata": {},
   "outputs": [
    {
     "name": "stdout",
     "output_type": "stream",
     "text": [
      "Empirical kernel mean= [0.46942333 0.37730606 0.37065108 0.42514889 0.4227503 ]\n",
      "Analytic kernel mean= [0.4681925  0.37747902 0.37137085 0.42498039 0.42337043]\n"
     ]
    }
   ],
   "source": [
    "N = 10000\n",
    "d = 5\n",
    "X1 = jax.random.normal(rng_key, shape=(N, d))\n",
    "rng_key, _ = jax.random.split(rng_key)\n",
    "X2 = jax.random.normal(rng_key, shape=(5, d))\n",
    "l = 1.0\n",
    "\n",
    "\n",
    "K = my_Matern_12_product(X1, X2, l * jnp.ones(d))\n",
    "empirical_mean = jnp.mean(K, axis=0)\n",
    "print('Empirical kernel mean=', empirical_mean)\n",
    "analytical_mean = kme_Matern_12_Gaussian(l * jnp.ones(d), X2)\n",
    "print('Analytic kernel mean=', analytical_mean)\n"
   ]
  },
  {
   "cell_type": "code",
   "execution_count": 8,
   "metadata": {},
   "outputs": [
    {
     "name": "stdout",
     "output_type": "stream",
     "text": [
      "Empirical kernel mean= [0.48726468 0.50487266 0.30886715 0.31149302 0.31920672]\n",
      "Analytic kernel mean= [0.48612827 0.5044938  0.30968273 0.31176245 0.32003897]\n"
     ]
    }
   ],
   "source": [
    "N = 10000\n",
    "a, b = -5., 1.\n",
    "X1 = jax.random.normal(rng_key, shape=(N, 1))\n",
    "rng_key, _ = jax.random.split(rng_key)\n",
    "X2 = jax.random.normal(rng_key, shape=(5, 1))\n",
    "l = 1.0\n",
    "\n",
    "K = my_Matern_12_product(X1, X2, l * jnp.ones(1))\n",
    "empirical_mean = jnp.mean(K, axis=0)\n",
    "print('Empirical kernel mean=', empirical_mean)\n",
    "analytical_mean = kme_Matern_12_Gaussian_1d(l, X2.squeeze())\n",
    "print('Analytic kernel mean=', analytical_mean)\n"
   ]
  },
  {
   "cell_type": "code",
   "execution_count": 11,
   "metadata": {},
   "outputs": [
    {
     "name": "stdout",
     "output_type": "stream",
     "text": [
      "Empirical kernel mean= [0.82546891 0.89780632 0.8007673  0.82570303 0.84545707]\n",
      "Analytic kernel mean= [0.82424402 0.89678603 0.79974699 0.82471063 0.84419394]\n"
     ]
    }
   ],
   "source": [
    "N = 10000\n",
    "a, b = -1., 1.\n",
    "X1 = jax.random.uniform(rng_key, shape=(N, 2), minval=a, maxval=b)\n",
    "X2 = jax.random.uniform(rng_key, shape=(5, 2), minval=a, maxval=b)\n",
    "l = 2.0\n",
    "\n",
    "K = my_RBF(X1, X2, l)\n",
    "empirical_mean = jnp.mean(K, axis=0)\n",
    "print('Empirical kernel mean=', empirical_mean)\n",
    "analytical_mean = kme_RBF_uniform(a, b, l, X2)\n",
    "print('Analytic kernel mean=', analytical_mean)\n"
   ]
  },
  {
   "cell_type": "code",
   "execution_count": 10,
   "metadata": {},
   "outputs": [
    {
     "name": "stdout",
     "output_type": "stream",
     "text": [
      "Empirical kernel mean= [0.00381389 0.03175655 0.00434104 0.0132915  0.01822839]\n",
      "Analytic kernel mean= [0.0034869  0.03140728 0.00469772 0.01202661 0.01834633]\n"
     ]
    }
   ],
   "source": [
    "N = 10000\n",
    "a, b = 0., 1.\n",
    "d = 2\n",
    "X1 = jax.random.normal(rng_key, shape=(N, d))\n",
    "rng_key, _ = jax.random.split(rng_key)\n",
    "X2 = jax.random.normal(rng_key, shape=(5, d))\n",
    "l = 0.2\n",
    "\n",
    "K = my_RBF(X1, X2, l)\n",
    "empirical_mean = jnp.mean(K, axis=0)\n",
    "print('Empirical kernel mean=', empirical_mean)\n",
    "analytical_mean = kme_RBF_Gaussian(a * jnp.ones([d]), b * jnp.eye(d), l, X2)\n",
    "print('Analytic kernel mean=', analytical_mean)\n"
   ]
  }
 ],
 "metadata": {
  "kernelspec": {
   "display_name": "cbq",
   "language": "python",
   "name": "python3"
  },
  "language_info": {
   "codemirror_mode": {
    "name": "ipython",
    "version": 3
   },
   "file_extension": ".py",
   "mimetype": "text/x-python",
   "name": "python",
   "nbconvert_exporter": "python",
   "pygments_lexer": "ipython3",
   "version": "3.9.17"
  }
 },
 "nbformat": 4,
 "nbformat_minor": 2
}
