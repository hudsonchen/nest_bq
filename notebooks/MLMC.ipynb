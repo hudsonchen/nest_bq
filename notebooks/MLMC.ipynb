{
 "cells": [
  {
   "cell_type": "code",
   "execution_count": 17,
   "metadata": {},
   "outputs": [],
   "source": [
    "import os\n",
    "os.chdir('/home/zongchen/nest_bq')\n",
    "import pandas as pd\n",
    "import numpy as np\n",
    "import jax\n",
    "import matplotlib.pyplot as plt\n",
    "\n",
    "from utils.kernel_means import *\n",
    "\n",
    "rng_key = jax.random.PRNGKey(0)"
   ]
  },
  {
   "cell_type": "code",
   "execution_count": 18,
   "metadata": {},
   "outputs": [
    {
     "name": "stdout",
     "output_type": "stream",
     "text": [
      "True value: 0.05824207185456738\n"
     ]
    }
   ],
   "source": [
    "def f(x):\n",
    "    return x ** 2\n",
    "\n",
    "# def g(x, theta):\n",
    "#     return (1 + jnp.sqrt(3) * jnp.abs(x - theta)) * jnp.exp(- jnp.sqrt(3) * jnp.abs(x - theta))\n",
    "\n",
    "def g(x, theta):\n",
    "    return jnp.abs(x - theta) ** 1.5\n",
    "\n",
    "def simulate_theta(T, rng_key):\n",
    "    rng_key, _ = jax.random.split(rng_key)\n",
    "    Theta = jax.random.uniform(rng_key, shape=(T, 1), minval=0., maxval=1.)\n",
    "    return Theta\n",
    "\n",
    "\n",
    "def simulate_x_theta(N, Theta, rng_key):\n",
    "    def simulate_x_per_theta(N, theta, rng_key):\n",
    "        rng_key, _ = jax.random.split(rng_key)\n",
    "        x = jax.random.uniform(rng_key, shape=(N, ), minval=0., maxval=1.)\n",
    "        # x = jax.random.normal(rng_key, shape=(N, ))\n",
    "        return x\n",
    "    vmap_func = jax.vmap(simulate_x_per_theta, in_axes=(None, 0, None))\n",
    "    X = vmap_func(N, Theta, rng_key)\n",
    "    return X\n",
    "\n",
    "true_value = 4/25 *(1/3 + 5 * jnp.pi / 512)\n",
    "\n",
    "print(f\"True value: {true_value}\")\n"
   ]
  },
  {
   "cell_type": "code",
   "execution_count": 19,
   "metadata": {},
   "outputs": [
    {
     "name": "stdout",
     "output_type": "stream",
     "text": [
      "Nested Monte Carlo: 0.05594543740153313\n"
     ]
    }
   ],
   "source": [
    "seed = 0\n",
    "N = 16 + 8 + 4\n",
    "T = 16 + 8 + 4\n",
    "\n",
    "\n",
    "rng_key = jax.random.PRNGKey(seed)    \n",
    "rng_key, _ = jax.random.split(rng_key)\n",
    "Theta = simulate_theta(T, rng_key)\n",
    "X = simulate_x_theta(N, Theta, rng_key)\n",
    "g_X = g(X, Theta)\n",
    "\n",
    "# This is nested Monte Carlo\n",
    "I_theta_MC = g_X.mean(1)\n",
    "I_NMC = f(I_theta_MC).mean(0)\n",
    "print(f\"Nested Monte Carlo: {I_NMC}\")"
   ]
  },
  {
   "cell_type": "code",
   "execution_count": 26,
   "metadata": {},
   "outputs": [
    {
     "name": "stdout",
     "output_type": "stream",
     "text": [
      "Level 0: 0.046016134321689606\n",
      "Level 1: 0.0012066980125382543\n",
      "Level 2: 0.015920639038085938\n",
      "Nested Multilevel Monte Carlo: 0.06314347684383392\n"
     ]
    }
   ],
   "source": [
    "N_list = [4, 8, 16]\n",
    "T_list = [16, 8, 4]\n",
    "\n",
    "level = 3\n",
    "\n",
    "I_NMLMC = 0\n",
    "\n",
    "for l in range(level):\n",
    "    if l == 0:\n",
    "        rng_key, _ = jax.random.split(rng_key)\n",
    "        Theta_l = simulate_theta(T_list[l], rng_key)\n",
    "        X_l = simulate_x_theta(N_list[l], Theta_l, rng_key)\n",
    "        g_X = g(X_l, Theta_l)\n",
    "        Z_l = f(g_X.mean(1)).mean(0)\n",
    "        I_NMLMC = Z_l\n",
    "        print(f\"Level {l}: {Z_l}\")\n",
    "    else:\n",
    "        rng_key, _ = jax.random.split(rng_key)\n",
    "        Theta_l = simulate_theta(T_list[l], rng_key)\n",
    "        rng_key, _ = jax.random.split(rng_key)\n",
    "        X_l = simulate_x_theta(N_list[l], Theta_l, rng_key)\n",
    "        rng_key, _ = jax.random.split(rng_key)\n",
    "        X_l_prev = simulate_x_theta(N_list[l-1], Theta_l, rng_key)\n",
    "        g_X = f(g(X_l, Theta_l).mean(1)) - f(g(X_l_prev, Theta_l).mean(1))\n",
    "        Z_l = g_X.mean(0)\n",
    "        I_NMLMC += Z_l\n",
    "        print(f\"Level {l}: {Z_l}\")\n",
    "    \n",
    "print(f\"Nested Multilevel Monte Carlo: {I_NMLMC}\")"
   ]
  },
  {
   "cell_type": "code",
   "execution_count": null,
   "metadata": {},
   "outputs": [],
   "source": []
  }
 ],
 "metadata": {
  "kernelspec": {
   "display_name": "cbq",
   "language": "python",
   "name": "python3"
  },
  "language_info": {
   "codemirror_mode": {
    "name": "ipython",
    "version": 3
   },
   "file_extension": ".py",
   "mimetype": "text/x-python",
   "name": "python",
   "nbconvert_exporter": "python",
   "pygments_lexer": "ipython3",
   "version": "3.9.17"
  }
 },
 "nbformat": 4,
 "nbformat_minor": 2
}
